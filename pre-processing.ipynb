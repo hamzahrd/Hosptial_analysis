{
 "cells": [
  {
   "cell_type": "code",
   "execution_count": 2,
   "metadata": {},
   "outputs": [],
   "source": [
    "import pandas as pd\n",
    "import numpy as np\n",
    "import matplotlib.pyplot as plt\n",
    "import seaborn as sns"
   ]
  },
  {
   "cell_type": "code",
   "execution_count": 3,
   "metadata": {},
   "outputs": [
    {
     "data": {
      "text/html": [
       "<div>\n",
       "<style scoped>\n",
       "    .dataframe tbody tr th:only-of-type {\n",
       "        vertical-align: middle;\n",
       "    }\n",
       "\n",
       "    .dataframe tbody tr th {\n",
       "        vertical-align: top;\n",
       "    }\n",
       "\n",
       "    .dataframe thead th {\n",
       "        text-align: right;\n",
       "    }\n",
       "</style>\n",
       "<table border=\"1\" class=\"dataframe\">\n",
       "  <thead>\n",
       "    <tr style=\"text-align: right;\">\n",
       "      <th></th>\n",
       "      <th>Id</th>\n",
       "      <th>BIRTHDATE</th>\n",
       "      <th>DEATHDATE</th>\n",
       "      <th>PREFIX</th>\n",
       "      <th>FIRST</th>\n",
       "      <th>LAST</th>\n",
       "      <th>SUFFIX</th>\n",
       "      <th>MAIDEN</th>\n",
       "      <th>MARITAL</th>\n",
       "      <th>RACE</th>\n",
       "      <th>ETHNICITY</th>\n",
       "      <th>GENDER</th>\n",
       "      <th>BIRTHPLACE</th>\n",
       "      <th>ADDRESS</th>\n",
       "      <th>CITY</th>\n",
       "      <th>STATE</th>\n",
       "      <th>COUNTY</th>\n",
       "      <th>ZIP</th>\n",
       "      <th>LAT</th>\n",
       "      <th>LON</th>\n",
       "    </tr>\n",
       "  </thead>\n",
       "  <tbody>\n",
       "    <tr>\n",
       "      <th>0</th>\n",
       "      <td>5605b66b-e92d-c16c-1b83-b8bf7040d51f</td>\n",
       "      <td>1977|03-19</td>\n",
       "      <td>NaN</td>\n",
       "      <td>Mrs.</td>\n",
       "      <td>Nikita578</td>\n",
       "      <td>Erdman779</td>\n",
       "      <td>NaN</td>\n",
       "      <td>Leannon79</td>\n",
       "      <td>M</td>\n",
       "      <td>white</td>\n",
       "      <td>nonhispanic</td>\n",
       "      <td>NaN</td>\n",
       "      <td>Wakefield  Massachusetts  US</td>\n",
       "      <td>510 Little Station Unit 69</td>\n",
       "      <td>Quincy</td>\n",
       "      <td>Massachusetts</td>\n",
       "      <td>Norfolk County</td>\n",
       "      <td>2186.0</td>\n",
       "      <td>42.290937</td>\n",
       "      <td>-70.975503</td>\n",
       "    </tr>\n",
       "    <tr>\n",
       "      <th>1</th>\n",
       "      <td>6e5ae27c-8038-7988-e2c0-25a103f01bfa</td>\n",
       "      <td>1940|02-19</td>\n",
       "      <td>NaN</td>\n",
       "      <td>Mr.</td>\n",
       "      <td>Zane918</td>\n",
       "      <td>Hodkiewicz467</td>\n",
       "      <td>NaN</td>\n",
       "      <td>NaN</td>\n",
       "      <td>M</td>\n",
       "      <td>white</td>\n",
       "      <td>nonhispanic</td>\n",
       "      <td>M</td>\n",
       "      <td>Brookline  Massachusetts  US</td>\n",
       "      <td>747 Conn Throughway</td>\n",
       "      <td>Boston</td>\n",
       "      <td>Massachusetts</td>\n",
       "      <td>Suffolk County</td>\n",
       "      <td>2135.0</td>\n",
       "      <td>42.308831</td>\n",
       "      <td>-71.063162</td>\n",
       "    </tr>\n",
       "    <tr>\n",
       "      <th>2</th>\n",
       "      <td>8123d076-0886-9007-e956-d5864aa121a7</td>\n",
       "      <td>1958|06-04</td>\n",
       "      <td>NaN</td>\n",
       "      <td>Mr.</td>\n",
       "      <td>Quinn173</td>\n",
       "      <td>Marquardt819</td>\n",
       "      <td>NaN</td>\n",
       "      <td>NaN</td>\n",
       "      <td>M</td>\n",
       "      <td>white</td>\n",
       "      <td>nonhispanic</td>\n",
       "      <td>NaN</td>\n",
       "      <td>Gardner  Massachusetts  US</td>\n",
       "      <td>816 Okuneva Extension Apt 91</td>\n",
       "      <td>Quincy</td>\n",
       "      <td>Massachusetts</td>\n",
       "      <td>Norfolk County</td>\n",
       "      <td>2170.0</td>\n",
       "      <td>42.265177</td>\n",
       "      <td>-70.967085</td>\n",
       "    </tr>\n",
       "    <tr>\n",
       "      <th>3</th>\n",
       "      <td>770518e4-6133-648e-60c9-071eb2f0e2ce</td>\n",
       "      <td>1928|12-25</td>\n",
       "      <td>2017-09-29</td>\n",
       "      <td>Mr.</td>\n",
       "      <td>Abel832</td>\n",
       "      <td>Smitham825</td>\n",
       "      <td>NaN</td>\n",
       "      <td>NaN</td>\n",
       "      <td>M</td>\n",
       "      <td>white</td>\n",
       "      <td>hispanic</td>\n",
       "      <td>M</td>\n",
       "      <td>Randolph  Massachusetts  US</td>\n",
       "      <td>127 Cole Way Unit 95</td>\n",
       "      <td>Boston</td>\n",
       "      <td>Massachusetts</td>\n",
       "      <td>Suffolk County</td>\n",
       "      <td>2118.0</td>\n",
       "      <td>42.334304</td>\n",
       "      <td>-71.066801</td>\n",
       "    </tr>\n",
       "    <tr>\n",
       "      <th>4</th>\n",
       "      <td>f96addf5-81b9-0aab-7855-d208d3d352c5</td>\n",
       "      <td>1928|12-25</td>\n",
       "      <td>2014-02-23</td>\n",
       "      <td>Mr.</td>\n",
       "      <td>Edwin773</td>\n",
       "      <td>Labadie908</td>\n",
       "      <td>NaN</td>\n",
       "      <td>NaN</td>\n",
       "      <td>M</td>\n",
       "      <td>white</td>\n",
       "      <td>hispanic</td>\n",
       "      <td>NaN</td>\n",
       "      <td>Stow  Massachusetts  US</td>\n",
       "      <td>976 Ziemann Gateway</td>\n",
       "      <td>Boston</td>\n",
       "      <td>Massachusetts</td>\n",
       "      <td>Suffolk County</td>\n",
       "      <td>2125.0</td>\n",
       "      <td>42.346771</td>\n",
       "      <td>-71.058813</td>\n",
       "    </tr>\n",
       "    <tr>\n",
       "      <th>5</th>\n",
       "      <td>8e9650d1-788a-78f9-4a28-d08f7f95354a</td>\n",
       "      <td>1928|12-25</td>\n",
       "      <td>NaN</td>\n",
       "      <td>Mr.</td>\n",
       "      <td>Frankie174</td>\n",
       "      <td>Oberbrunner298</td>\n",
       "      <td>NaN</td>\n",
       "      <td>NaN</td>\n",
       "      <td>M</td>\n",
       "      <td>white</td>\n",
       "      <td>hispanic</td>\n",
       "      <td>NaN</td>\n",
       "      <td>Boston  Massachusetts  US</td>\n",
       "      <td>303 Bechtelar Bypass Suite 26</td>\n",
       "      <td>Boston</td>\n",
       "      <td>Massachusetts</td>\n",
       "      <td>Suffolk County</td>\n",
       "      <td>2467.0</td>\n",
       "      <td>42.371026</td>\n",
       "      <td>-71.118107</td>\n",
       "    </tr>\n",
       "    <tr>\n",
       "      <th>6</th>\n",
       "      <td>183df435-4190-060e-8f8e-bf63c572b266</td>\n",
       "      <td>1957|11-08</td>\n",
       "      <td>NaN</td>\n",
       "      <td>Mrs.</td>\n",
       "      <td>Eilene124</td>\n",
       "      <td>Walsh511</td>\n",
       "      <td>NaN</td>\n",
       "      <td>Wiegand701</td>\n",
       "      <td>M</td>\n",
       "      <td>asian</td>\n",
       "      <td>nonhispanic</td>\n",
       "      <td>NaN</td>\n",
       "      <td>Beijing  Beijing Municipality  CN</td>\n",
       "      <td>235 Lang Parade</td>\n",
       "      <td>Cambridge</td>\n",
       "      <td>Massachusetts</td>\n",
       "      <td>Middlesex County</td>\n",
       "      <td>2142.0</td>\n",
       "      <td>42.358928</td>\n",
       "      <td>-71.156224</td>\n",
       "    </tr>\n",
       "    <tr>\n",
       "      <th>7</th>\n",
       "      <td>720560d4-51da-c38c-ee90-c15935278df1</td>\n",
       "      <td>1972|06-27</td>\n",
       "      <td>NaN</td>\n",
       "      <td>Mr.</td>\n",
       "      <td>Lowell343</td>\n",
       "      <td>Price929</td>\n",
       "      <td>NaN</td>\n",
       "      <td>NaN</td>\n",
       "      <td>M</td>\n",
       "      <td>white</td>\n",
       "      <td>nonhispanic</td>\n",
       "      <td>M</td>\n",
       "      <td>Lowell  Massachusetts  US</td>\n",
       "      <td>694 Kuhlman Corner Apt 74</td>\n",
       "      <td>Quincy</td>\n",
       "      <td>Massachusetts</td>\n",
       "      <td>Norfolk County</td>\n",
       "      <td>2170.0</td>\n",
       "      <td>42.297904</td>\n",
       "      <td>-71.015983</td>\n",
       "    </tr>\n",
       "    <tr>\n",
       "      <th>8</th>\n",
       "      <td>217851b0-5f47-d376-18b9-0fe4ba77207e</td>\n",
       "      <td>1954|03-06</td>\n",
       "      <td>NaN</td>\n",
       "      <td>Mr.</td>\n",
       "      <td>Adrian111</td>\n",
       "      <td>Gleason633</td>\n",
       "      <td>NaN</td>\n",
       "      <td>NaN</td>\n",
       "      <td>S</td>\n",
       "      <td>black</td>\n",
       "      <td>hispanic</td>\n",
       "      <td>M</td>\n",
       "      <td>Boston  Massachusetts  US</td>\n",
       "      <td>808 Gottlieb Wall</td>\n",
       "      <td>Boston</td>\n",
       "      <td>Massachusetts</td>\n",
       "      <td>Suffolk County</td>\n",
       "      <td>2126.0</td>\n",
       "      <td>42.384084</td>\n",
       "      <td>-71.100689</td>\n",
       "    </tr>\n",
       "    <tr>\n",
       "      <th>9</th>\n",
       "      <td>ff331e5c-ab16-e218-f39a-63e11de1ed75</td>\n",
       "      <td>1927|07-10</td>\n",
       "      <td>NaN</td>\n",
       "      <td>Mr.</td>\n",
       "      <td>Eugene421</td>\n",
       "      <td>Abernathy524</td>\n",
       "      <td>NaN</td>\n",
       "      <td>NaN</td>\n",
       "      <td>M</td>\n",
       "      <td>native</td>\n",
       "      <td>hispanic</td>\n",
       "      <td>NaN</td>\n",
       "      <td>Pembroke  Massachusetts  US</td>\n",
       "      <td>706 Connelly Track Unit 1</td>\n",
       "      <td>Boston</td>\n",
       "      <td>Massachusetts</td>\n",
       "      <td>Suffolk County</td>\n",
       "      <td>2111.0</td>\n",
       "      <td>42.358519</td>\n",
       "      <td>-71.078598</td>\n",
       "    </tr>\n",
       "    <tr>\n",
       "      <th>10</th>\n",
       "      <td>affa7bf1-f4fc-d3f7-747c-db8f32d105cf</td>\n",
       "      <td>1933|05-08</td>\n",
       "      <td>NaN</td>\n",
       "      <td>Mr.</td>\n",
       "      <td>Jay242</td>\n",
       "      <td>Wisozk929</td>\n",
       "      <td>NaN</td>\n",
       "      <td>NaN</td>\n",
       "      <td>M</td>\n",
       "      <td>white</td>\n",
       "      <td>nonhispanic</td>\n",
       "      <td>NaN</td>\n",
       "      <td>Boston  Massachusetts  US</td>\n",
       "      <td>471 Borer Estate</td>\n",
       "      <td>Boston</td>\n",
       "      <td>Massachusetts</td>\n",
       "      <td>Suffolk County</td>\n",
       "      <td>2124.0</td>\n",
       "      <td>42.320186</td>\n",
       "      <td>-71.145693</td>\n",
       "    </tr>\n",
       "    <tr>\n",
       "      <th>11</th>\n",
       "      <td>becb15c3-a135-8fb2-ea09-583043922a3a</td>\n",
       "      <td>1948|05-30</td>\n",
       "      <td>NaN</td>\n",
       "      <td>Mrs.</td>\n",
       "      <td>Stephanie963</td>\n",
       "      <td>Douglas31</td>\n",
       "      <td>NaN</td>\n",
       "      <td>Predovic534</td>\n",
       "      <td>M</td>\n",
       "      <td>white</td>\n",
       "      <td>nonhispanic</td>\n",
       "      <td>NaN</td>\n",
       "      <td>Amesbury  Massachusetts  US</td>\n",
       "      <td>345 Carter Hollow</td>\n",
       "      <td>Boston</td>\n",
       "      <td>Massachusetts</td>\n",
       "      <td>Suffolk County</td>\n",
       "      <td>2132.0</td>\n",
       "      <td>42.348327</td>\n",
       "      <td>-71.096466</td>\n",
       "    </tr>\n",
       "    <tr>\n",
       "      <th>12</th>\n",
       "      <td>a8ceba15-ef47-da92-253d-185853ff6c34</td>\n",
       "      <td>1971|10-27</td>\n",
       "      <td>2021-03-26</td>\n",
       "      <td>Mrs.</td>\n",
       "      <td>Helene803</td>\n",
       "      <td>Kilback373</td>\n",
       "      <td>NaN</td>\n",
       "      <td>Walker122</td>\n",
       "      <td>M</td>\n",
       "      <td>white</td>\n",
       "      <td>hispanic</td>\n",
       "      <td>NaN</td>\n",
       "      <td>New Bedford  Massachusetts  US</td>\n",
       "      <td>865 McLaughlin Underpass Apt 63</td>\n",
       "      <td>Bôston</td>\n",
       "      <td>Massachusetts</td>\n",
       "      <td>Suffolk County</td>\n",
       "      <td>2114.0</td>\n",
       "      <td>42.340495</td>\n",
       "      <td>-71.101117</td>\n",
       "    </tr>\n",
       "    <tr>\n",
       "      <th>13</th>\n",
       "      <td>0e02b297-527d-b5ea-30e5-690c82541243</td>\n",
       "      <td>1983|04-11</td>\n",
       "      <td>NaN</td>\n",
       "      <td>Mr.</td>\n",
       "      <td>Maria750</td>\n",
       "      <td>Waelchi213</td>\n",
       "      <td>NaN</td>\n",
       "      <td>NaN</td>\n",
       "      <td>M</td>\n",
       "      <td>black</td>\n",
       "      <td>nonhispanic</td>\n",
       "      <td>M</td>\n",
       "      <td>Salem  Massachusetts  US</td>\n",
       "      <td>584 Cormier Lodge Suite 70</td>\n",
       "      <td>Somerville</td>\n",
       "      <td>Massachusetts</td>\n",
       "      <td>Middlesex County</td>\n",
       "      <td>2145.0</td>\n",
       "      <td>42.346290</td>\n",
       "      <td>-71.106427</td>\n",
       "    </tr>\n",
       "    <tr>\n",
       "      <th>14</th>\n",
       "      <td>f2203fd5-1a2c-60cd-cae0-1416658880b6</td>\n",
       "      <td>1939|09-21</td>\n",
       "      <td>NaN</td>\n",
       "      <td>Mrs.</td>\n",
       "      <td>Edra310</td>\n",
       "      <td>Wehner319</td>\n",
       "      <td>NaN</td>\n",
       "      <td>Upton904</td>\n",
       "      <td>M</td>\n",
       "      <td>white</td>\n",
       "      <td>nonhispanic</td>\n",
       "      <td>F</td>\n",
       "      <td>Fairhaven  Massachusetts  US</td>\n",
       "      <td>538 Hilpert Estate Apt 80</td>\n",
       "      <td>Boston</td>\n",
       "      <td>Massachusetts</td>\n",
       "      <td>Suffolk County</td>\n",
       "      <td>2131.0</td>\n",
       "      <td>42.335375</td>\n",
       "      <td>-71.058499</td>\n",
       "    </tr>\n",
       "    <tr>\n",
       "      <th>15</th>\n",
       "      <td>4d55540d-c43d-e6e8-5364-ec2509df31e3</td>\n",
       "      <td>1964|10-15</td>\n",
       "      <td>NaN</td>\n",
       "      <td>Mrs.</td>\n",
       "      <td>Mickie472</td>\n",
       "      <td>Champlin946</td>\n",
       "      <td>NaN</td>\n",
       "      <td>Hermann103</td>\n",
       "      <td>M</td>\n",
       "      <td>white</td>\n",
       "      <td>nonhispanic</td>\n",
       "      <td>NaN</td>\n",
       "      <td>Chelsea  Massachusetts  US</td>\n",
       "      <td>1092 Schoen Grove Unit 66</td>\n",
       "      <td>Boston</td>\n",
       "      <td>Massachusetts</td>\n",
       "      <td>Suffolk County</td>\n",
       "      <td>2119.0</td>\n",
       "      <td>42.340496</td>\n",
       "      <td>-71.065487</td>\n",
       "    </tr>\n",
       "    <tr>\n",
       "      <th>16</th>\n",
       "      <td>07e7f8a0-1bfd-3af8-2bd0-29f1dbe9633c</td>\n",
       "      <td>1923|03-16</td>\n",
       "      <td>NaN</td>\n",
       "      <td>Ms.</td>\n",
       "      <td>Norah104</td>\n",
       "      <td>Feeney44</td>\n",
       "      <td>NaN</td>\n",
       "      <td>NaN</td>\n",
       "      <td>S</td>\n",
       "      <td>white</td>\n",
       "      <td>nonhispanic</td>\n",
       "      <td>NaN</td>\n",
       "      <td>Oxford  Massachusetts  US</td>\n",
       "      <td>865 Pollich Rest</td>\n",
       "      <td>Boston</td>\n",
       "      <td>Massachusetts</td>\n",
       "      <td>Suffolk County</td>\n",
       "      <td>2125.0</td>\n",
       "      <td>42.367438</td>\n",
       "      <td>-71.014511</td>\n",
       "    </tr>\n",
       "    <tr>\n",
       "      <th>17</th>\n",
       "      <td>6746a7c0-1335-90e8-5006-04378f138f46</td>\n",
       "      <td>1979|06-16</td>\n",
       "      <td>NaN</td>\n",
       "      <td>Mr.</td>\n",
       "      <td>Edgardo196</td>\n",
       "      <td>Okuneva707</td>\n",
       "      <td>NaN</td>\n",
       "      <td>NaN</td>\n",
       "      <td>S</td>\n",
       "      <td>black</td>\n",
       "      <td>nonhispanic</td>\n",
       "      <td>NaN</td>\n",
       "      <td>Waltham  Massachusetts  US</td>\n",
       "      <td>947 Eichmann Boulevard</td>\n",
       "      <td>Revere</td>\n",
       "      <td>Massachusetts</td>\n",
       "      <td>Suffolk County</td>\n",
       "      <td>2151.0</td>\n",
       "      <td>42.389434</td>\n",
       "      <td>-70.996224</td>\n",
       "    </tr>\n",
       "    <tr>\n",
       "      <th>18</th>\n",
       "      <td>733678d5-4ba7-d464-4eda-b849e137a42c</td>\n",
       "      <td>1981|02-17</td>\n",
       "      <td>NaN</td>\n",
       "      <td>Mr.</td>\n",
       "      <td>Allen322</td>\n",
       "      <td>Schumm995</td>\n",
       "      <td>NaN</td>\n",
       "      <td>NaN</td>\n",
       "      <td>M</td>\n",
       "      <td>white</td>\n",
       "      <td>nonhispanic</td>\n",
       "      <td>M</td>\n",
       "      <td>Haverhill  Massachusetts  US</td>\n",
       "      <td>425 Lang Boulevard</td>\n",
       "      <td>Quincy</td>\n",
       "      <td>Massachusetts</td>\n",
       "      <td>Norfolk County</td>\n",
       "      <td>2169.0</td>\n",
       "      <td>42.303280</td>\n",
       "      <td>-70.974078</td>\n",
       "    </tr>\n",
       "    <tr>\n",
       "      <th>19</th>\n",
       "      <td>5bd6c434-6f51-6e53-4d0f-8d3889f377da</td>\n",
       "      <td>1931|12-18</td>\n",
       "      <td>NaN</td>\n",
       "      <td>Mrs.</td>\n",
       "      <td>Celia938</td>\n",
       "      <td>Carter549</td>\n",
       "      <td>NaN</td>\n",
       "      <td>Crona259</td>\n",
       "      <td>M</td>\n",
       "      <td>asian</td>\n",
       "      <td>nonhispanic</td>\n",
       "      <td>NaN</td>\n",
       "      <td>Attleboro  Massachusetts  US</td>\n",
       "      <td>773 Weissnat Route Unit 6</td>\n",
       "      <td>Boston</td>\n",
       "      <td>Massachusetts</td>\n",
       "      <td>Suffolk County</td>\n",
       "      <td>2111.0</td>\n",
       "      <td>42.324761</td>\n",
       "      <td>-70.998943</td>\n",
       "    </tr>\n",
       "  </tbody>\n",
       "</table>\n",
       "</div>"
      ],
      "text/plain": [
       "                                      Id   BIRTHDATE   DEATHDATE PREFIX  \\\n",
       "0   5605b66b-e92d-c16c-1b83-b8bf7040d51f  1977|03-19         NaN   Mrs.   \n",
       "1   6e5ae27c-8038-7988-e2c0-25a103f01bfa  1940|02-19         NaN    Mr.   \n",
       "2   8123d076-0886-9007-e956-d5864aa121a7  1958|06-04         NaN    Mr.   \n",
       "3   770518e4-6133-648e-60c9-071eb2f0e2ce  1928|12-25  2017-09-29    Mr.   \n",
       "4   f96addf5-81b9-0aab-7855-d208d3d352c5  1928|12-25  2014-02-23    Mr.   \n",
       "5   8e9650d1-788a-78f9-4a28-d08f7f95354a  1928|12-25         NaN    Mr.   \n",
       "6   183df435-4190-060e-8f8e-bf63c572b266  1957|11-08         NaN   Mrs.   \n",
       "7   720560d4-51da-c38c-ee90-c15935278df1  1972|06-27         NaN    Mr.   \n",
       "8   217851b0-5f47-d376-18b9-0fe4ba77207e  1954|03-06         NaN    Mr.   \n",
       "9   ff331e5c-ab16-e218-f39a-63e11de1ed75  1927|07-10         NaN    Mr.   \n",
       "10  affa7bf1-f4fc-d3f7-747c-db8f32d105cf  1933|05-08         NaN    Mr.   \n",
       "11  becb15c3-a135-8fb2-ea09-583043922a3a  1948|05-30         NaN   Mrs.   \n",
       "12  a8ceba15-ef47-da92-253d-185853ff6c34  1971|10-27  2021-03-26   Mrs.   \n",
       "13  0e02b297-527d-b5ea-30e5-690c82541243  1983|04-11         NaN    Mr.   \n",
       "14  f2203fd5-1a2c-60cd-cae0-1416658880b6  1939|09-21         NaN   Mrs.   \n",
       "15  4d55540d-c43d-e6e8-5364-ec2509df31e3  1964|10-15         NaN   Mrs.   \n",
       "16  07e7f8a0-1bfd-3af8-2bd0-29f1dbe9633c  1923|03-16         NaN    Ms.   \n",
       "17  6746a7c0-1335-90e8-5006-04378f138f46  1979|06-16         NaN    Mr.   \n",
       "18  733678d5-4ba7-d464-4eda-b849e137a42c  1981|02-17         NaN    Mr.   \n",
       "19  5bd6c434-6f51-6e53-4d0f-8d3889f377da  1931|12-18         NaN   Mrs.   \n",
       "\n",
       "               FIRST            LAST SUFFIX       MAIDEN MARITAL    RACE  \\\n",
       "0         Nikita578        Erdman779    NaN    Leannon79       M   white   \n",
       "1           Zane918    Hodkiewicz467    NaN          NaN       M   white   \n",
       "2          Quinn173     Marquardt819    NaN          NaN       M   white   \n",
       "3           Abel832       Smitham825    NaN          NaN       M   white   \n",
       "4          Edwin773       Labadie908    NaN          NaN       M   white   \n",
       "5        Frankie174   Oberbrunner298    NaN          NaN       M   white   \n",
       "6         Eilene124         Walsh511    NaN   Wiegand701       M   asian   \n",
       "7         Lowell343         Price929    NaN          NaN       M   white   \n",
       "8         Adrian111       Gleason633    NaN          NaN       S   black   \n",
       "9         Eugene421     Abernathy524    NaN          NaN       M  native   \n",
       "10           Jay242        Wisozk929    NaN          NaN       M   white   \n",
       "11     Stephanie963        Douglas31    NaN  Predovic534       M   white   \n",
       "12        Helene803       Kilback373    NaN    Walker122       M   white   \n",
       "13         Maria750       Waelchi213    NaN          NaN       M   black   \n",
       "14          Edra310        Wehner319    NaN     Upton904       M   white   \n",
       "15        Mickie472      Champlin946    NaN   Hermann103       M   white   \n",
       "16         Norah104         Feeney44    NaN          NaN       S   white   \n",
       "17       Edgardo196       Okuneva707    NaN          NaN       S   black   \n",
       "18         Allen322        Schumm995    NaN          NaN       M   white   \n",
       "19         Celia938        Carter549    NaN     Crona259       M   asian   \n",
       "\n",
       "      ETHNICITY GENDER                         BIRTHPLACE  \\\n",
       "0   nonhispanic    NaN       Wakefield  Massachusetts  US   \n",
       "1   nonhispanic      M       Brookline  Massachusetts  US   \n",
       "2   nonhispanic    NaN         Gardner  Massachusetts  US   \n",
       "3      hispanic      M        Randolph  Massachusetts  US   \n",
       "4      hispanic    NaN            Stow  Massachusetts  US   \n",
       "5      hispanic    NaN          Boston  Massachusetts  US   \n",
       "6   nonhispanic    NaN  Beijing  Beijing Municipality  CN   \n",
       "7   nonhispanic      M          Lowell  Massachusetts  US   \n",
       "8      hispanic      M          Boston  Massachusetts  US   \n",
       "9      hispanic    NaN        Pembroke  Massachusetts  US   \n",
       "10  nonhispanic    NaN          Boston  Massachusetts  US   \n",
       "11  nonhispanic    NaN        Amesbury  Massachusetts  US   \n",
       "12     hispanic    NaN     New Bedford  Massachusetts  US   \n",
       "13  nonhispanic      M           Salem  Massachusetts  US   \n",
       "14  nonhispanic      F       Fairhaven  Massachusetts  US   \n",
       "15  nonhispanic    NaN         Chelsea  Massachusetts  US   \n",
       "16  nonhispanic    NaN          Oxford  Massachusetts  US   \n",
       "17  nonhispanic    NaN         Waltham  Massachusetts  US   \n",
       "18  nonhispanic      M       Haverhill  Massachusetts  US   \n",
       "19  nonhispanic    NaN       Attleboro  Massachusetts  US   \n",
       "\n",
       "                            ADDRESS        CITY          STATE  \\\n",
       "0        510 Little Station Unit 69      Quincy  Massachusetts   \n",
       "1               747 Conn Throughway      Boston  Massachusetts   \n",
       "2      816 Okuneva Extension Apt 91      Quincy  Massachusetts   \n",
       "3              127 Cole Way Unit 95      Boston  Massachusetts   \n",
       "4               976 Ziemann Gateway      Boston  Massachusetts   \n",
       "5     303 Bechtelar Bypass Suite 26      Boston  Massachusetts   \n",
       "6                   235 Lang Parade   Cambridge  Massachusetts   \n",
       "7         694 Kuhlman Corner Apt 74      Quincy  Massachusetts   \n",
       "8                 808 Gottlieb Wall      Boston  Massachusetts   \n",
       "9         706 Connelly Track Unit 1      Boston  Massachusetts   \n",
       "10                 471 Borer Estate      Boston  Massachusetts   \n",
       "11                345 Carter Hollow      Boston  Massachusetts   \n",
       "12  865 McLaughlin Underpass Apt 63      Bôston  Massachusetts   \n",
       "13       584 Cormier Lodge Suite 70  Somerville  Massachusetts   \n",
       "14        538 Hilpert Estate Apt 80      Boston  Massachusetts   \n",
       "15        1092 Schoen Grove Unit 66      Boston  Massachusetts   \n",
       "16                 865 Pollich Rest      Boston  Massachusetts   \n",
       "17           947 Eichmann Boulevard      Revere  Massachusetts   \n",
       "18               425 Lang Boulevard      Quincy  Massachusetts   \n",
       "19        773 Weissnat Route Unit 6      Boston  Massachusetts   \n",
       "\n",
       "              COUNTY     ZIP        LAT        LON  \n",
       "0     Norfolk County  2186.0  42.290937 -70.975503  \n",
       "1     Suffolk County  2135.0  42.308831 -71.063162  \n",
       "2     Norfolk County  2170.0  42.265177 -70.967085  \n",
       "3     Suffolk County  2118.0  42.334304 -71.066801  \n",
       "4     Suffolk County  2125.0  42.346771 -71.058813  \n",
       "5     Suffolk County  2467.0  42.371026 -71.118107  \n",
       "6   Middlesex County  2142.0  42.358928 -71.156224  \n",
       "7     Norfolk County  2170.0  42.297904 -71.015983  \n",
       "8     Suffolk County  2126.0  42.384084 -71.100689  \n",
       "9     Suffolk County  2111.0  42.358519 -71.078598  \n",
       "10    Suffolk County  2124.0  42.320186 -71.145693  \n",
       "11    Suffolk County  2132.0  42.348327 -71.096466  \n",
       "12    Suffolk County  2114.0  42.340495 -71.101117  \n",
       "13  Middlesex County  2145.0  42.346290 -71.106427  \n",
       "14    Suffolk County  2131.0  42.335375 -71.058499  \n",
       "15    Suffolk County  2119.0  42.340496 -71.065487  \n",
       "16    Suffolk County  2125.0  42.367438 -71.014511  \n",
       "17    Suffolk County  2151.0  42.389434 -70.996224  \n",
       "18    Norfolk County  2169.0  42.303280 -70.974078  \n",
       "19    Suffolk County  2111.0  42.324761 -70.998943  "
      ]
     },
     "execution_count": 3,
     "metadata": {},
     "output_type": "execute_result"
    }
   ],
   "source": [
    "df1 = pd.read_csv('patients.csv',delimiter=':')\n",
    "df1.head(20)"
   ]
  },
  {
   "cell_type": "code",
   "execution_count": 4,
   "metadata": {},
   "outputs": [
    {
     "data": {
      "text/html": [
       "<div>\n",
       "<style scoped>\n",
       "    .dataframe tbody tr th:only-of-type {\n",
       "        vertical-align: middle;\n",
       "    }\n",
       "\n",
       "    .dataframe tbody tr th {\n",
       "        vertical-align: top;\n",
       "    }\n",
       "\n",
       "    .dataframe thead th {\n",
       "        text-align: right;\n",
       "    }\n",
       "</style>\n",
       "<table border=\"1\" class=\"dataframe\">\n",
       "  <thead>\n",
       "    <tr style=\"text-align: right;\">\n",
       "      <th></th>\n",
       "      <th>count</th>\n",
       "      <th>unique</th>\n",
       "      <th>top</th>\n",
       "      <th>freq</th>\n",
       "    </tr>\n",
       "  </thead>\n",
       "  <tbody>\n",
       "    <tr>\n",
       "      <th>Id</th>\n",
       "      <td>994</td>\n",
       "      <td>974</td>\n",
       "      <td>69790209-5130-7140-2f03-b1010b81f724</td>\n",
       "      <td>2</td>\n",
       "    </tr>\n",
       "    <tr>\n",
       "      <th>BIRTHDATE</th>\n",
       "      <td>994</td>\n",
       "      <td>880</td>\n",
       "      <td>1929|05-15</td>\n",
       "      <td>4</td>\n",
       "    </tr>\n",
       "    <tr>\n",
       "      <th>DEATHDATE</th>\n",
       "      <td>154</td>\n",
       "      <td>148</td>\n",
       "      <td>2017-09-29</td>\n",
       "      <td>2</td>\n",
       "    </tr>\n",
       "    <tr>\n",
       "      <th>PREFIX</th>\n",
       "      <td>994</td>\n",
       "      <td>3</td>\n",
       "      <td>Mr.</td>\n",
       "      <td>503</td>\n",
       "    </tr>\n",
       "    <tr>\n",
       "      <th>FIRST</th>\n",
       "      <td>994</td>\n",
       "      <td>842</td>\n",
       "      <td>Bernardo699</td>\n",
       "      <td>4</td>\n",
       "    </tr>\n",
       "    <tr>\n",
       "      <th>LAST</th>\n",
       "      <td>994</td>\n",
       "      <td>498</td>\n",
       "      <td>Heaney114</td>\n",
       "      <td>6</td>\n",
       "    </tr>\n",
       "    <tr>\n",
       "      <th>SUFFIX</th>\n",
       "      <td>21</td>\n",
       "      <td>3</td>\n",
       "      <td>PhD</td>\n",
       "      <td>10</td>\n",
       "    </tr>\n",
       "    <tr>\n",
       "      <th>MAIDEN</th>\n",
       "      <td>394</td>\n",
       "      <td>279</td>\n",
       "      <td>Jerde200</td>\n",
       "      <td>5</td>\n",
       "    </tr>\n",
       "    <tr>\n",
       "      <th>MARITAL</th>\n",
       "      <td>993</td>\n",
       "      <td>2</td>\n",
       "      <td>M</td>\n",
       "      <td>799</td>\n",
       "    </tr>\n",
       "    <tr>\n",
       "      <th>RACE</th>\n",
       "      <td>994</td>\n",
       "      <td>6</td>\n",
       "      <td>white</td>\n",
       "      <td>695</td>\n",
       "    </tr>\n",
       "    <tr>\n",
       "      <th>ETHNICITY</th>\n",
       "      <td>994</td>\n",
       "      <td>2</td>\n",
       "      <td>nonhispanic</td>\n",
       "      <td>799</td>\n",
       "    </tr>\n",
       "    <tr>\n",
       "      <th>GENDER</th>\n",
       "      <td>507</td>\n",
       "      <td>2</td>\n",
       "      <td>M</td>\n",
       "      <td>261</td>\n",
       "    </tr>\n",
       "    <tr>\n",
       "      <th>BIRTHPLACE</th>\n",
       "      <td>994</td>\n",
       "      <td>299</td>\n",
       "      <td>Boston  Massachusetts  US</td>\n",
       "      <td>80</td>\n",
       "    </tr>\n",
       "    <tr>\n",
       "      <th>ADDRESS</th>\n",
       "      <td>994</td>\n",
       "      <td>974</td>\n",
       "      <td>628 Spinka Trafficway</td>\n",
       "      <td>2</td>\n",
       "    </tr>\n",
       "    <tr>\n",
       "      <th>CITY</th>\n",
       "      <td>994</td>\n",
       "      <td>30</td>\n",
       "      <td>Boston</td>\n",
       "      <td>550</td>\n",
       "    </tr>\n",
       "    <tr>\n",
       "      <th>STATE</th>\n",
       "      <td>994</td>\n",
       "      <td>2</td>\n",
       "      <td>Massachusetts</td>\n",
       "      <td>990</td>\n",
       "    </tr>\n",
       "    <tr>\n",
       "      <th>COUNTY</th>\n",
       "      <td>994</td>\n",
       "      <td>5</td>\n",
       "      <td>Suffolk County</td>\n",
       "      <td>658</td>\n",
       "    </tr>\n",
       "  </tbody>\n",
       "</table>\n",
       "</div>"
      ],
      "text/plain": [
       "           count unique                                   top freq\n",
       "Id           994    974  69790209-5130-7140-2f03-b1010b81f724    2\n",
       "BIRTHDATE    994    880                            1929|05-15    4\n",
       "DEATHDATE    154    148                            2017-09-29    2\n",
       "PREFIX       994      3                                   Mr.  503\n",
       "FIRST        994    842                          Bernardo699     4\n",
       "LAST         994    498                             Heaney114    6\n",
       "SUFFIX        21      3                                   PhD   10\n",
       "MAIDEN       394    279                              Jerde200    5\n",
       "MARITAL      993      2                                     M  799\n",
       "RACE         994      6                                 white  695\n",
       "ETHNICITY    994      2                           nonhispanic  799\n",
       "GENDER       507      2                                     M  261\n",
       "BIRTHPLACE   994    299             Boston  Massachusetts  US   80\n",
       "ADDRESS      994    974                 628 Spinka Trafficway    2\n",
       "CITY         994     30                                Boston  550\n",
       "STATE        994      2                         Massachusetts  990\n",
       "COUNTY       994      5                        Suffolk County  658"
      ]
     },
     "execution_count": 4,
     "metadata": {},
     "output_type": "execute_result"
    }
   ],
   "source": [
    "df1.describe(include=object).T"
   ]
  },
  {
   "cell_type": "code",
   "execution_count": 5,
   "metadata": {},
   "outputs": [
    {
     "data": {
      "text/plain": [
       "(994, 20)"
      ]
     },
     "execution_count": 5,
     "metadata": {},
     "output_type": "execute_result"
    }
   ],
   "source": [
    "df1.shape"
   ]
  },
  {
   "cell_type": "code",
   "execution_count": 6,
   "metadata": {},
   "outputs": [
    {
     "name": "stdout",
     "output_type": "stream",
     "text": [
      "<class 'pandas.core.frame.DataFrame'>\n",
      "RangeIndex: 994 entries, 0 to 993\n",
      "Data columns (total 20 columns):\n",
      " #   Column      Non-Null Count  Dtype  \n",
      "---  ------      --------------  -----  \n",
      " 0   Id          994 non-null    object \n",
      " 1   BIRTHDATE   994 non-null    object \n",
      " 2   DEATHDATE   154 non-null    object \n",
      " 3   PREFIX      994 non-null    object \n",
      " 4   FIRST       994 non-null    object \n",
      " 5   LAST        994 non-null    object \n",
      " 6   SUFFIX      21 non-null     object \n",
      " 7   MAIDEN      394 non-null    object \n",
      " 8   MARITAL     993 non-null    object \n",
      " 9   RACE        994 non-null    object \n",
      " 10  ETHNICITY   994 non-null    object \n",
      " 11  GENDER      507 non-null    object \n",
      " 12  BIRTHPLACE  994 non-null    object \n",
      " 13  ADDRESS     994 non-null    object \n",
      " 14  CITY        994 non-null    object \n",
      " 15  STATE       994 non-null    object \n",
      " 16  COUNTY      994 non-null    object \n",
      " 17  ZIP         849 non-null    float64\n",
      " 18  LAT         994 non-null    float64\n",
      " 19  LON         994 non-null    float64\n",
      "dtypes: float64(3), object(17)\n",
      "memory usage: 155.4+ KB\n"
     ]
    }
   ],
   "source": [
    "df1.info()"
   ]
  },
  {
   "cell_type": "code",
   "execution_count": 7,
   "metadata": {},
   "outputs": [
    {
     "data": {
      "text/plain": [
       "Index(['Id', 'BIRTHDATE', 'DEATHDATE', 'PREFIX', 'FIRST', 'LAST', 'SUFFIX',\n",
       "       'MAIDEN', 'MARITAL', 'RACE', 'ETHNICITY', 'GENDER', 'BIRTHPLACE',\n",
       "       'ADDRESS', 'CITY', 'STATE', 'COUNTY', 'ZIP', 'LAT', 'LON'],\n",
       "      dtype='object')"
      ]
     },
     "execution_count": 7,
     "metadata": {},
     "output_type": "execute_result"
    }
   ],
   "source": [
    "df1.columns"
   ]
  },
  {
   "cell_type": "code",
   "execution_count": 8,
   "metadata": {},
   "outputs": [
    {
     "data": {
      "text/plain": [
       "Id              0\n",
       "BIRTHDATE       0\n",
       "DEATHDATE     840\n",
       "PREFIX          0\n",
       "FIRST           0\n",
       "LAST            0\n",
       "SUFFIX        973\n",
       "MAIDEN        600\n",
       "MARITAL         1\n",
       "RACE            0\n",
       "ETHNICITY       0\n",
       "GENDER        487\n",
       "BIRTHPLACE      0\n",
       "ADDRESS         0\n",
       "CITY            0\n",
       "STATE           0\n",
       "COUNTY          0\n",
       "ZIP           145\n",
       "LAT             0\n",
       "LON             0\n",
       "dtype: int64"
      ]
     },
     "execution_count": 8,
     "metadata": {},
     "output_type": "execute_result"
    }
   ],
   "source": [
    "df1.isnull().sum()"
   ]
  },
  {
   "cell_type": "code",
   "execution_count": 9,
   "metadata": {},
   "outputs": [],
   "source": [
    "df1['BIRTHDATE'] = df1['BIRTHDATE'].replace(['1741|02-27','1752|11-12','1757|11-15','3928|08-25','3935|01-21','3977|04-29','943|09-30','3925|03-11','3989|07-14'],['1941|02-27','1952|11-12','1957|11-15','1928|08-25','1935|01-21','1977|04-29','1943|09-30','1925|03-11','1989|07-14'])"
   ]
  },
  {
   "cell_type": "code",
   "execution_count": 10,
   "metadata": {},
   "outputs": [
    {
     "data": {
      "text/plain": [
       "0   1977-03-19\n",
       "1   1940-02-19\n",
       "2   1958-06-04\n",
       "3   1928-12-25\n",
       "4   1928-12-25\n",
       "Name: BIRTHDATE, dtype: datetime64[ns]"
      ]
     },
     "execution_count": 10,
     "metadata": {},
     "output_type": "execute_result"
    }
   ],
   "source": [
    "df1['BIRTHDATE'] = df1['BIRTHDATE'].str.replace('|', '-', regex=False)\n",
    "\n",
    "# Convert 'BIRTHDATE' column to datetime\n",
    "df1['BIRTHDATE'] = pd.to_datetime(df1['BIRTHDATE'], errors='coerce')\n",
    "df1['BIRTHDATE'].head()\n"
   ]
  },
  {
   "cell_type": "code",
   "execution_count": 11,
   "metadata": {},
   "outputs": [
    {
     "data": {
      "text/plain": [
       "BIRTHDATE\n",
       "1922-03-24    1\n",
       "1922-03-30    1\n",
       "1922-04-13    1\n",
       "1922-04-15    1\n",
       "1922-05-31    2\n",
       "             ..\n",
       "1991-08-03    1\n",
       "1991-09-23    1\n",
       "1991-10-01    1\n",
       "1991-10-04    1\n",
       "1991-11-27    1\n",
       "Length: 880, dtype: int64"
      ]
     },
     "execution_count": 11,
     "metadata": {},
     "output_type": "execute_result"
    }
   ],
   "source": [
    "df1.groupby('BIRTHDATE').size()"
   ]
  },
  {
   "cell_type": "code",
   "execution_count": 12,
   "metadata": {},
   "outputs": [
    {
     "data": {
      "text/plain": [
       "0"
      ]
     },
     "execution_count": 12,
     "metadata": {},
     "output_type": "execute_result"
    }
   ],
   "source": [
    "df1['BIRTHDATE'].isnull().sum()"
   ]
  },
  {
   "cell_type": "code",
   "execution_count": 13,
   "metadata": {},
   "outputs": [
    {
     "data": {
      "text/plain": [
       "Mr.     503\n",
       "Mrs.    394\n",
       "Ms.      97\n",
       "Name: PREFIX, dtype: int64"
      ]
     },
     "execution_count": 13,
     "metadata": {},
     "output_type": "execute_result"
    }
   ],
   "source": [
    "df1['PREFIX'].value_counts()"
   ]
  },
  {
   "cell_type": "code",
   "execution_count": 14,
   "metadata": {},
   "outputs": [],
   "source": [
    "df1['PREFIX'] = df1['PREFIX'].replace(['Ms.'],['Mrs.'])\n"
   ]
  },
  {
   "cell_type": "code",
   "execution_count": 15,
   "metadata": {},
   "outputs": [
    {
     "data": {
      "text/plain": [
       "Mr.     503\n",
       "Mrs.    491\n",
       "Name: PREFIX, dtype: int64"
      ]
     },
     "execution_count": 15,
     "metadata": {},
     "output_type": "execute_result"
    }
   ],
   "source": [
    "df1['PREFIX'].value_counts()"
   ]
  },
  {
   "cell_type": "code",
   "execution_count": 16,
   "metadata": {},
   "outputs": [
    {
     "data": {
      "text/plain": [
       "0     F\n",
       "1     M\n",
       "2     M\n",
       "3     M\n",
       "4     M\n",
       "5     M\n",
       "6     F\n",
       "7     M\n",
       "8     M\n",
       "9     M\n",
       "10    M\n",
       "11    F\n",
       "12    F\n",
       "13    M\n",
       "14    F\n",
       "15    F\n",
       "16    F\n",
       "17    M\n",
       "18    M\n",
       "19    F\n",
       "Name: GENDER, dtype: object"
      ]
     },
     "execution_count": 16,
     "metadata": {},
     "output_type": "execute_result"
    }
   ],
   "source": [
    "df1['GENDER'] = df1.apply(lambda row: 'F' if row['PREFIX'] == 'Mrs.' else 'M' if row['PREFIX'] == 'Mr.' else row['GENDER'], axis=1)\n",
    "df1['GENDER'].head(20)"
   ]
  },
  {
   "cell_type": "code",
   "execution_count": 17,
   "metadata": {},
   "outputs": [
    {
     "data": {
      "text/plain": [
       "0"
      ]
     },
     "execution_count": 17,
     "metadata": {},
     "output_type": "execute_result"
    }
   ],
   "source": [
    "df1['GENDER'].isnull().sum()"
   ]
  },
  {
   "cell_type": "code",
   "execution_count": 18,
   "metadata": {},
   "outputs": [],
   "source": [
    "df1['MAIDEN'] = df1['MAIDEN'].fillna('no_maiden')"
   ]
  },
  {
   "cell_type": "code",
   "execution_count": 19,
   "metadata": {},
   "outputs": [
    {
     "data": {
      "text/plain": [
       "Massachusetts    990\n",
       "Màssachusetts      4\n",
       "Name: STATE, dtype: int64"
      ]
     },
     "execution_count": 19,
     "metadata": {},
     "output_type": "execute_result"
    }
   ],
   "source": [
    "df1['STATE'].value_counts()"
   ]
  },
  {
   "cell_type": "code",
   "execution_count": 20,
   "metadata": {},
   "outputs": [],
   "source": [
    "df1['STATE'] = df1['STATE'].replace(['Màssachusetts'],['Massachusetts'])"
   ]
  },
  {
   "cell_type": "code",
   "execution_count": 21,
   "metadata": {},
   "outputs": [
    {
     "data": {
      "text/plain": [
       "0    Leannon79\n",
       "1    no_maiden\n",
       "2    no_maiden\n",
       "3    no_maiden\n",
       "4    no_maiden\n",
       "Name: MAIDEN, dtype: object"
      ]
     },
     "execution_count": 21,
     "metadata": {},
     "output_type": "execute_result"
    }
   ],
   "source": [
    "df1['MAIDEN'].head()\n"
   ]
  },
  {
   "cell_type": "code",
   "execution_count": 22,
   "metadata": {},
   "outputs": [
    {
     "data": {
      "text/plain": [
       "0    Still_live\n",
       "1    Still_live\n",
       "2    Still_live\n",
       "3    2017-09-29\n",
       "4    2014-02-23\n",
       "5    Still_live\n",
       "6    Still_live\n",
       "7    Still_live\n",
       "8    Still_live\n",
       "9    Still_live\n",
       "Name: DEATHDATE, dtype: object"
      ]
     },
     "execution_count": 22,
     "metadata": {},
     "output_type": "execute_result"
    }
   ],
   "source": [
    "df1['DEATHDATE'] = df1['DEATHDATE'].fillna('Still_live')\n",
    "df1['DEATHDATE'].head(10)\n"
   ]
  },
  {
   "cell_type": "code",
   "execution_count": 23,
   "metadata": {},
   "outputs": [],
   "source": [
    "duplicated = df1.duplicated().value_counts()\n",
    "df1=df1.drop_duplicates()\n",
    "\n"
   ]
  },
  {
   "cell_type": "code",
   "execution_count": 24,
   "metadata": {},
   "outputs": [
    {
     "data": {
      "text/plain": [
       "(974, 20)"
      ]
     },
     "execution_count": 24,
     "metadata": {},
     "output_type": "execute_result"
    }
   ],
   "source": [
    "df1.shape"
   ]
  },
  {
   "cell_type": "code",
   "execution_count": 25,
   "metadata": {},
   "outputs": [
    {
     "data": {
      "text/plain": [
       "white       680\n",
       "black       163\n",
       "asian        91\n",
       "other        16\n",
       "hawaiian     13\n",
       "Name: RACE, dtype: int64"
      ]
     },
     "execution_count": 25,
     "metadata": {},
     "output_type": "execute_result"
    }
   ],
   "source": [
    "Race = df1['RACE'].value_counts()\n",
    "Race.head()"
   ]
  },
  {
   "cell_type": "code",
   "execution_count": 26,
   "metadata": {},
   "outputs": [
    {
     "data": {
      "text/plain": [
       "nonhispanic    783\n",
       "hispanic       191\n",
       "Name: ETHNICITY, dtype: int64"
      ]
     },
     "execution_count": 26,
     "metadata": {},
     "output_type": "execute_result"
    }
   ],
   "source": [
    "ETHNICITY = df1['ETHNICITY'].value_counts()\n",
    "ETHNICITY.head()"
   ]
  },
  {
   "cell_type": "code",
   "execution_count": 27,
   "metadata": {},
   "outputs": [
    {
     "data": {
      "text/plain": [
       "Boston  Massachusetts  US            78\n",
       "Worcester  Massachusetts  US         20\n",
       "Springfield  Massachusetts  US       17\n",
       "Somerville  Massachusetts  US        17\n",
       "Brockton  Massachusetts  US          14\n",
       "                                     ..\n",
       "Khamis Mushayt  Asir  SA              1\n",
       "Najran  Najran  SA                    1\n",
       "Palermo  Sicily  IT                   1\n",
       "Hadley  Massachusetts  US             1\n",
       "North Pembroke  Massachusetts  US     1\n",
       "Name: BIRTHPLACE, Length: 299, dtype: int64"
      ]
     },
     "execution_count": 27,
     "metadata": {},
     "output_type": "execute_result"
    }
   ],
   "source": [
    "BIRTHPLACE = df1['BIRTHPLACE'].value_counts()\n",
    "BIRTHPLACE"
   ]
  },
  {
   "cell_type": "code",
   "execution_count": 28,
   "metadata": {},
   "outputs": [
    {
     "data": {
      "text/plain": [
       "Boston       537\n",
       "Quincy        80\n",
       "Cambridge     45\n",
       "Revere        42\n",
       "Chelsea       39\n",
       "Name: CITY, dtype: int64"
      ]
     },
     "execution_count": 28,
     "metadata": {},
     "output_type": "execute_result"
    }
   ],
   "source": [
    "COTY = df1['CITY'].value_counts()\n",
    "COTY.head()"
   ]
  },
  {
   "cell_type": "code",
   "execution_count": 29,
   "metadata": {},
   "outputs": [
    {
     "data": {
      "text/plain": [
       "Massachusetts    974\n",
       "Name: STATE, dtype: int64"
      ]
     },
     "execution_count": 29,
     "metadata": {},
     "output_type": "execute_result"
    }
   ],
   "source": [
    "STATE = df1['STATE'].value_counts()\n",
    "STATE.head()"
   ]
  },
  {
   "cell_type": "code",
   "execution_count": 30,
   "metadata": {},
   "outputs": [],
   "source": [
    "df1['BIRTHDATE'] = df1['BIRTHDATE'].replace([],[])"
   ]
  },
  {
   "cell_type": "code",
   "execution_count": 31,
   "metadata": {},
   "outputs": [],
   "source": [
    "df1.to_csv(\"patient_cleaned.csv\")"
   ]
  }
 ],
 "metadata": {
  "kernelspec": {
   "display_name": "Python 3",
   "language": "python",
   "name": "python3"
  },
  "language_info": {
   "codemirror_mode": {
    "name": "ipython",
    "version": 3
   },
   "file_extension": ".py",
   "mimetype": "text/x-python",
   "name": "python",
   "nbconvert_exporter": "python",
   "pygments_lexer": "ipython3",
   "version": "3.11.1"
  }
 },
 "nbformat": 4,
 "nbformat_minor": 2
}
