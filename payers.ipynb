{
 "cells": [
  {
   "cell_type": "code",
   "execution_count": 1,
   "metadata": {},
   "outputs": [],
   "source": [
    "import pandas as pd\n",
    "import numpy as np\n",
    "import matplotlib.pyplot as plt\n",
    "import seaborn as sns\n",
    "from datetime import datetime"
   ]
  },
  {
   "cell_type": "code",
   "execution_count": 2,
   "metadata": {},
   "outputs": [
    {
     "data": {
      "text/html": [
       "<div>\n",
       "<style scoped>\n",
       "    .dataframe tbody tr th:only-of-type {\n",
       "        vertical-align: middle;\n",
       "    }\n",
       "\n",
       "    .dataframe tbody tr th {\n",
       "        vertical-align: top;\n",
       "    }\n",
       "\n",
       "    .dataframe thead th {\n",
       "        text-align: right;\n",
       "    }\n",
       "</style>\n",
       "<table border=\"1\" class=\"dataframe\">\n",
       "  <thead>\n",
       "    <tr style=\"text-align: right;\">\n",
       "      <th></th>\n",
       "      <th>Id</th>\n",
       "      <th>NAME</th>\n",
       "      <th>ADDRESS</th>\n",
       "      <th>CITY</th>\n",
       "      <th>STATE_HEADQUARTERED</th>\n",
       "      <th>ZIP</th>\n",
       "      <th>PHONE</th>\n",
       "    </tr>\n",
       "  </thead>\n",
       "  <tbody>\n",
       "    <tr>\n",
       "      <th>0</th>\n",
       "      <td>b3221cfc-24fb-339e-823d-bc4136cbc4ed</td>\n",
       "      <td>Dual Eligible</td>\n",
       "      <td>7500 Security Blvd</td>\n",
       "      <td>Baltimore</td>\n",
       "      <td>MD</td>\n",
       "      <td>21244.0</td>\n",
       "      <td>1-877-267-2323</td>\n",
       "    </tr>\n",
       "    <tr>\n",
       "      <th>1</th>\n",
       "      <td>7caa7254-5050-3b5e-9eae-bd5ea30e809c</td>\n",
       "      <td>Medicare</td>\n",
       "      <td>7500 Security Blvd</td>\n",
       "      <td>Baltimore</td>\n",
       "      <td>MD</td>\n",
       "      <td>21244.0</td>\n",
       "      <td>1-800-633-4227</td>\n",
       "    </tr>\n",
       "    <tr>\n",
       "      <th>2</th>\n",
       "      <td>7c4411ce-02f1-39b5-b9ec-dfbea9ad3c1a</td>\n",
       "      <td>Medicaid</td>\n",
       "      <td>7500 Security Blvd</td>\n",
       "      <td>Baltimore</td>\n",
       "      <td>MD</td>\n",
       "      <td>21244.0</td>\n",
       "      <td>1-877-267-2323</td>\n",
       "    </tr>\n",
       "    <tr>\n",
       "      <th>3</th>\n",
       "      <td>d47b3510-2895-3b70-9897-342d681c769d</td>\n",
       "      <td>Humana</td>\n",
       "      <td>500 West Main St</td>\n",
       "      <td>Louisville</td>\n",
       "      <td>KY</td>\n",
       "      <td>40018.0</td>\n",
       "      <td>1-844-330-7799</td>\n",
       "    </tr>\n",
       "    <tr>\n",
       "      <th>4</th>\n",
       "      <td>6e2f1a2d-27bd-3701-8d08-dae202c58632</td>\n",
       "      <td>Blue Cross Blue Shield</td>\n",
       "      <td>Michigan Plaza</td>\n",
       "      <td>Chicago</td>\n",
       "      <td>IL</td>\n",
       "      <td>60007.0</td>\n",
       "      <td>1-800-262-2583</td>\n",
       "    </tr>\n",
       "  </tbody>\n",
       "</table>\n",
       "</div>"
      ],
      "text/plain": [
       "                                     Id                    NAME  \\\n",
       "0  b3221cfc-24fb-339e-823d-bc4136cbc4ed           Dual Eligible   \n",
       "1  7caa7254-5050-3b5e-9eae-bd5ea30e809c                Medicare   \n",
       "2  7c4411ce-02f1-39b5-b9ec-dfbea9ad3c1a                Medicaid   \n",
       "3  d47b3510-2895-3b70-9897-342d681c769d                  Humana   \n",
       "4  6e2f1a2d-27bd-3701-8d08-dae202c58632  Blue Cross Blue Shield   \n",
       "\n",
       "              ADDRESS        CITY STATE_HEADQUARTERED      ZIP           PHONE  \n",
       "0  7500 Security Blvd   Baltimore                  MD  21244.0  1-877-267-2323  \n",
       "1  7500 Security Blvd   Baltimore                  MD  21244.0  1-800-633-4227  \n",
       "2  7500 Security Blvd   Baltimore                  MD  21244.0  1-877-267-2323  \n",
       "3    500 West Main St  Louisville                  KY  40018.0  1-844-330-7799  \n",
       "4      Michigan Plaza     Chicago                  IL  60007.0  1-800-262-2583  "
      ]
     },
     "execution_count": 2,
     "metadata": {},
     "output_type": "execute_result"
    }
   ],
   "source": [
    "df3 = pd.read_csv('payers.csv')\n",
    "df3.head()"
   ]
  },
  {
   "cell_type": "code",
   "execution_count": 3,
   "metadata": {},
   "outputs": [
    {
     "data": {
      "text/plain": [
       "(10, 7)"
      ]
     },
     "execution_count": 3,
     "metadata": {},
     "output_type": "execute_result"
    }
   ],
   "source": [
    "df3.shape"
   ]
  },
  {
   "cell_type": "code",
   "execution_count": 4,
   "metadata": {},
   "outputs": [],
   "source": [
    "df3.to_csv(\"payers)cleaned.csv\")"
   ]
  },
  {
   "cell_type": "code",
   "execution_count": 5,
   "metadata": {},
   "outputs": [
    {
     "data": {
      "text/html": [
       "<div>\n",
       "<style scoped>\n",
       "    .dataframe tbody tr th:only-of-type {\n",
       "        vertical-align: middle;\n",
       "    }\n",
       "\n",
       "    .dataframe tbody tr th {\n",
       "        vertical-align: top;\n",
       "    }\n",
       "\n",
       "    .dataframe thead th {\n",
       "        text-align: right;\n",
       "    }\n",
       "</style>\n",
       "<table border=\"1\" class=\"dataframe\">\n",
       "  <thead>\n",
       "    <tr style=\"text-align: right;\">\n",
       "      <th></th>\n",
       "      <th>START</th>\n",
       "      <th>STOP</th>\n",
       "      <th>PATIENT</th>\n",
       "      <th>ENCOUNTER</th>\n",
       "      <th>CODE</th>\n",
       "      <th>DESCRIPTION</th>\n",
       "      <th>BASE_COST</th>\n",
       "      <th>REASONCODE</th>\n",
       "      <th>REASONDESCRIPTION</th>\n",
       "    </tr>\n",
       "  </thead>\n",
       "  <tbody>\n",
       "    <tr>\n",
       "      <th>0</th>\n",
       "      <td>2011-01-02T09:26:36Z</td>\n",
       "      <td>2011-01-02T12:58:36Z</td>\n",
       "      <td>3de74169-7f67-9304-91d4-757e0f3a14d2</td>\n",
       "      <td>32c84703-2481-49cd-d571-3899d5820253</td>\n",
       "      <td>265764009</td>\n",
       "      <td>Renal dialysis (procedure)</td>\n",
       "      <td>903</td>\n",
       "      <td>NaN</td>\n",
       "      <td>NaN</td>\n",
       "    </tr>\n",
       "    <tr>\n",
       "      <th>1</th>\n",
       "      <td>2011-01-03T05:44:39Z</td>\n",
       "      <td>2011-01-03T06:01:42Z</td>\n",
       "      <td>d9ec2e44-32e9-9148-179a-1653348cc4e2</td>\n",
       "      <td>c98059da-320a-c0a6-fced-c8815f3e3f39</td>\n",
       "      <td>76601001</td>\n",
       "      <td>Intramuscular injection</td>\n",
       "      <td>2477</td>\n",
       "      <td>NaN</td>\n",
       "      <td>NaN</td>\n",
       "    </tr>\n",
       "    <tr>\n",
       "      <th>2</th>\n",
       "      <td>2011-01-04T14:49:55Z</td>\n",
       "      <td>2011-01-04T15:04:55Z</td>\n",
       "      <td>d856d6e6-4c98-e7a2-129b-44076c63d008</td>\n",
       "      <td>2cfd4ddd-ad13-fe1e-528b-15051cea2ec3</td>\n",
       "      <td>703423002</td>\n",
       "      <td>Combined chemotherapy and radiation therapy (p...</td>\n",
       "      <td>11620</td>\n",
       "      <td>363406005.0</td>\n",
       "      <td>Malignant tumor of colon</td>\n",
       "    </tr>\n",
       "    <tr>\n",
       "      <th>3</th>\n",
       "      <td>2011-01-05T04:02:09Z</td>\n",
       "      <td>2011-01-05T04:17:09Z</td>\n",
       "      <td>bc9d59c3-0a30-6e3b-f47d-022e4f03c8de</td>\n",
       "      <td>17966936-0878-f4db-128b-a43ae10d0878</td>\n",
       "      <td>173160006</td>\n",
       "      <td>Diagnostic fiberoptic bronchoscopy (procedure)</td>\n",
       "      <td>9796</td>\n",
       "      <td>162573006.0</td>\n",
       "      <td>Suspected lung cancer (situation)</td>\n",
       "    </tr>\n",
       "    <tr>\n",
       "      <th>4</th>\n",
       "      <td>2011-01-05T12:58:36Z</td>\n",
       "      <td>2011-01-05T16:42:36Z</td>\n",
       "      <td>3de74169-7f67-9304-91d4-757e0f3a14d2</td>\n",
       "      <td>9de5f0b0-4ba4-ce6f-45fb-b55c202f31a5</td>\n",
       "      <td>265764009</td>\n",
       "      <td>Renal dialysis (procedure)</td>\n",
       "      <td>1255</td>\n",
       "      <td>NaN</td>\n",
       "      <td>NaN</td>\n",
       "    </tr>\n",
       "    <tr>\n",
       "      <th>...</th>\n",
       "      <td>...</td>\n",
       "      <td>...</td>\n",
       "      <td>...</td>\n",
       "      <td>...</td>\n",
       "      <td>...</td>\n",
       "      <td>...</td>\n",
       "      <td>...</td>\n",
       "      <td>...</td>\n",
       "      <td>...</td>\n",
       "    </tr>\n",
       "    <tr>\n",
       "      <th>47696</th>\n",
       "      <td>2022-01-29T20:35:37Z</td>\n",
       "      <td>2022-01-29T20:50:37Z</td>\n",
       "      <td>ff1b3c26-53a6-4590-ce79-a3f7269274ea</td>\n",
       "      <td>01b57f06-cebe-a3e4-4423-a796ffb0c35d</td>\n",
       "      <td>430193006</td>\n",
       "      <td>Medication Reconciliation (procedure)</td>\n",
       "      <td>413</td>\n",
       "      <td>NaN</td>\n",
       "      <td>NaN</td>\n",
       "    </tr>\n",
       "    <tr>\n",
       "      <th>47697</th>\n",
       "      <td>2022-01-29T20:35:37Z</td>\n",
       "      <td>2022-01-29T20:50:37Z</td>\n",
       "      <td>ff1b3c26-53a6-4590-ce79-a3f7269274ea</td>\n",
       "      <td>01b57f06-cebe-a3e4-4423-a796ffb0c35d</td>\n",
       "      <td>274804006</td>\n",
       "      <td>Evaluation of uterine fundal height</td>\n",
       "      <td>3238</td>\n",
       "      <td>72892002.0</td>\n",
       "      <td>Normal pregnancy</td>\n",
       "    </tr>\n",
       "    <tr>\n",
       "      <th>47698</th>\n",
       "      <td>2022-01-29T20:35:37Z</td>\n",
       "      <td>2022-01-29T20:50:37Z</td>\n",
       "      <td>ff1b3c26-53a6-4590-ce79-a3f7269274ea</td>\n",
       "      <td>01b57f06-cebe-a3e4-4423-a796ffb0c35d</td>\n",
       "      <td>225158009</td>\n",
       "      <td>Auscultation of the fetal heart</td>\n",
       "      <td>7045</td>\n",
       "      <td>72892002.0</td>\n",
       "      <td>Normal pregnancy</td>\n",
       "    </tr>\n",
       "    <tr>\n",
       "      <th>47699</th>\n",
       "      <td>2022-01-29T20:35:37Z</td>\n",
       "      <td>2022-01-29T20:50:37Z</td>\n",
       "      <td>ff1b3c26-53a6-4590-ce79-a3f7269274ea</td>\n",
       "      <td>01b57f06-cebe-a3e4-4423-a796ffb0c35d</td>\n",
       "      <td>118001005</td>\n",
       "      <td>Streptococcus pneumoniae group B antigen test</td>\n",
       "      <td>1559</td>\n",
       "      <td>72892002.0</td>\n",
       "      <td>Normal pregnancy</td>\n",
       "    </tr>\n",
       "    <tr>\n",
       "      <th>47700</th>\n",
       "      <td>2022-01-29T20:35:37Z</td>\n",
       "      <td>2022-01-29T21:08:12Z</td>\n",
       "      <td>ff1b3c26-53a6-4590-ce79-a3f7269274ea</td>\n",
       "      <td>01b57f06-cebe-a3e4-4423-a796ffb0c35d</td>\n",
       "      <td>710824005</td>\n",
       "      <td>Assessment of health and social care needs (pr...</td>\n",
       "      <td>431</td>\n",
       "      <td>NaN</td>\n",
       "      <td>NaN</td>\n",
       "    </tr>\n",
       "  </tbody>\n",
       "</table>\n",
       "<p>47701 rows × 9 columns</p>\n",
       "</div>"
      ],
      "text/plain": [
       "                      START                  STOP  \\\n",
       "0      2011-01-02T09:26:36Z  2011-01-02T12:58:36Z   \n",
       "1      2011-01-03T05:44:39Z  2011-01-03T06:01:42Z   \n",
       "2      2011-01-04T14:49:55Z  2011-01-04T15:04:55Z   \n",
       "3      2011-01-05T04:02:09Z  2011-01-05T04:17:09Z   \n",
       "4      2011-01-05T12:58:36Z  2011-01-05T16:42:36Z   \n",
       "...                     ...                   ...   \n",
       "47696  2022-01-29T20:35:37Z  2022-01-29T20:50:37Z   \n",
       "47697  2022-01-29T20:35:37Z  2022-01-29T20:50:37Z   \n",
       "47698  2022-01-29T20:35:37Z  2022-01-29T20:50:37Z   \n",
       "47699  2022-01-29T20:35:37Z  2022-01-29T20:50:37Z   \n",
       "47700  2022-01-29T20:35:37Z  2022-01-29T21:08:12Z   \n",
       "\n",
       "                                    PATIENT  \\\n",
       "0      3de74169-7f67-9304-91d4-757e0f3a14d2   \n",
       "1      d9ec2e44-32e9-9148-179a-1653348cc4e2   \n",
       "2      d856d6e6-4c98-e7a2-129b-44076c63d008   \n",
       "3      bc9d59c3-0a30-6e3b-f47d-022e4f03c8de   \n",
       "4      3de74169-7f67-9304-91d4-757e0f3a14d2   \n",
       "...                                     ...   \n",
       "47696  ff1b3c26-53a6-4590-ce79-a3f7269274ea   \n",
       "47697  ff1b3c26-53a6-4590-ce79-a3f7269274ea   \n",
       "47698  ff1b3c26-53a6-4590-ce79-a3f7269274ea   \n",
       "47699  ff1b3c26-53a6-4590-ce79-a3f7269274ea   \n",
       "47700  ff1b3c26-53a6-4590-ce79-a3f7269274ea   \n",
       "\n",
       "                                  ENCOUNTER       CODE  \\\n",
       "0      32c84703-2481-49cd-d571-3899d5820253  265764009   \n",
       "1      c98059da-320a-c0a6-fced-c8815f3e3f39   76601001   \n",
       "2      2cfd4ddd-ad13-fe1e-528b-15051cea2ec3  703423002   \n",
       "3      17966936-0878-f4db-128b-a43ae10d0878  173160006   \n",
       "4      9de5f0b0-4ba4-ce6f-45fb-b55c202f31a5  265764009   \n",
       "...                                     ...        ...   \n",
       "47696  01b57f06-cebe-a3e4-4423-a796ffb0c35d  430193006   \n",
       "47697  01b57f06-cebe-a3e4-4423-a796ffb0c35d  274804006   \n",
       "47698  01b57f06-cebe-a3e4-4423-a796ffb0c35d  225158009   \n",
       "47699  01b57f06-cebe-a3e4-4423-a796ffb0c35d  118001005   \n",
       "47700  01b57f06-cebe-a3e4-4423-a796ffb0c35d  710824005   \n",
       "\n",
       "                                             DESCRIPTION  BASE_COST  \\\n",
       "0                             Renal dialysis (procedure)        903   \n",
       "1                                Intramuscular injection       2477   \n",
       "2      Combined chemotherapy and radiation therapy (p...      11620   \n",
       "3         Diagnostic fiberoptic bronchoscopy (procedure)       9796   \n",
       "4                             Renal dialysis (procedure)       1255   \n",
       "...                                                  ...        ...   \n",
       "47696              Medication Reconciliation (procedure)        413   \n",
       "47697                Evaluation of uterine fundal height       3238   \n",
       "47698                    Auscultation of the fetal heart       7045   \n",
       "47699      Streptococcus pneumoniae group B antigen test       1559   \n",
       "47700  Assessment of health and social care needs (pr...        431   \n",
       "\n",
       "        REASONCODE                  REASONDESCRIPTION  \n",
       "0              NaN                                NaN  \n",
       "1              NaN                                NaN  \n",
       "2      363406005.0           Malignant tumor of colon  \n",
       "3      162573006.0  Suspected lung cancer (situation)  \n",
       "4              NaN                                NaN  \n",
       "...            ...                                ...  \n",
       "47696          NaN                                NaN  \n",
       "47697   72892002.0                   Normal pregnancy  \n",
       "47698   72892002.0                   Normal pregnancy  \n",
       "47699   72892002.0                   Normal pregnancy  \n",
       "47700          NaN                                NaN  \n",
       "\n",
       "[47701 rows x 9 columns]"
      ]
     },
     "execution_count": 5,
     "metadata": {},
     "output_type": "execute_result"
    }
   ],
   "source": [
    "df4 = pd.read_csv('procedures.csv')\n",
    "df4"
   ]
  },
  {
   "cell_type": "code",
   "execution_count": 6,
   "metadata": {},
   "outputs": [
    {
     "data": {
      "text/plain": [
       "START                 object\n",
       "STOP                  object\n",
       "PATIENT               object\n",
       "ENCOUNTER             object\n",
       "CODE                   int64\n",
       "DESCRIPTION           object\n",
       "BASE_COST              int64\n",
       "REASONCODE           float64\n",
       "REASONDESCRIPTION     object\n",
       "dtype: object"
      ]
     },
     "execution_count": 6,
     "metadata": {},
     "output_type": "execute_result"
    }
   ],
   "source": [
    "df4.dtypes"
   ]
  },
  {
   "cell_type": "code",
   "execution_count": 7,
   "metadata": {},
   "outputs": [
    {
     "data": {
      "text/plain": [
       "START                    0\n",
       "STOP                     0\n",
       "PATIENT                  0\n",
       "ENCOUNTER                0\n",
       "CODE                     0\n",
       "DESCRIPTION              0\n",
       "BASE_COST                0\n",
       "REASONCODE           36945\n",
       "REASONDESCRIPTION    36945\n",
       "dtype: int64"
      ]
     },
     "execution_count": 7,
     "metadata": {},
     "output_type": "execute_result"
    }
   ],
   "source": [
    "df4.isnull().sum()"
   ]
  },
  {
   "cell_type": "code",
   "execution_count": 8,
   "metadata": {},
   "outputs": [
    {
     "data": {
      "text/plain": [
       "7.289200e+07    5718\n",
       "4.943600e+07    1744\n",
       "2.548370e+08     762\n",
       "4.241320e+08     343\n",
       "3.890870e+08     342\n",
       "1.050900e+07     249\n",
       "8.743300e+07     210\n",
       "1.850860e+08     170\n",
       "2.306900e+08     114\n",
       "8.880501e+07     103\n",
       "6.849600e+07     100\n",
       "6.596600e+07      84\n",
       "1.956620e+08      59\n",
       "4.387801e+07      56\n",
       "8.405440e+08      55\n",
       "6.781100e+13      53\n",
       "7.657101e+07      51\n",
       "1.611400e+07      50\n",
       "2.631020e+08      46\n",
       "5.815000e+07      45\n",
       "3.634060e+08      38\n",
       "2.833850e+08      33\n",
       "5.602001e+06      33\n",
       "2.833710e+08      30\n",
       "5.382701e+07      29\n",
       "2.229801e+07      27\n",
       "3.702470e+08      26\n",
       "3.373700e+07      20\n",
       "2.845510e+08      19\n",
       "3.598170e+08      19\n",
       "1.098380e+08      17\n",
       "2.845490e+08      16\n",
       "1.625730e+08      16\n",
       "7.131970e+08      12\n",
       "6.571001e+07      12\n",
       "4.104290e+08      12\n",
       "9.130201e+07       8\n",
       "4.444700e+08       7\n",
       "9.426000e+07       6\n",
       "1.269060e+08       6\n",
       "4.750500e+07       4\n",
       "4.444480e+08       3\n",
       "2.625740e+08       3\n",
       "3.083200e+07       2\n",
       "7.440001e+07       2\n",
       "4.031920e+08       2\n",
       "Name: REASONCODE, dtype: int64"
      ]
     },
     "execution_count": 8,
     "metadata": {},
     "output_type": "execute_result"
    }
   ],
   "source": [
    "\n",
    "df4['REASONCODE'].value_counts()"
   ]
  },
  {
   "cell_type": "code",
   "execution_count": 9,
   "metadata": {},
   "outputs": [
    {
     "name": "stdout",
     "output_type": "stream",
     "text": [
      "datetime64[ns]\n"
     ]
    }
   ],
   "source": [
    "\n",
    "def custom_date_parser(date_string):\n",
    "    return pd.to_datetime(date_string.replace('|', '-'), format='%Y-%m-%dT%H:%M:%SZ')\n",
    "\n",
    "df4['START'] = df4['START'].apply(custom_date_parser)\n",
    "\n",
    "print(df4['START'].dtype)"
   ]
  },
  {
   "cell_type": "code",
   "execution_count": 10,
   "metadata": {},
   "outputs": [
    {
     "name": "stdout",
     "output_type": "stream",
     "text": [
      "datetime64[ns]\n"
     ]
    }
   ],
   "source": [
    "df4['STOP'] = pd.to_datetime(df4['STOP'], format='%Y-%m-%dT%H:%M:%SZ')\n",
    "\n",
    "print(df4['STOP'].dtype)"
   ]
  },
  {
   "cell_type": "code",
   "execution_count": 11,
   "metadata": {},
   "outputs": [],
   "source": [
    "df4.to_csv(\"procedures_cleaned.csv\")"
   ]
  },
  {
   "cell_type": "code",
   "execution_count": 12,
   "metadata": {},
   "outputs": [
    {
     "data": {
      "text/html": [
       "<div>\n",
       "<style scoped>\n",
       "    .dataframe tbody tr th:only-of-type {\n",
       "        vertical-align: middle;\n",
       "    }\n",
       "\n",
       "    .dataframe tbody tr th {\n",
       "        vertical-align: top;\n",
       "    }\n",
       "\n",
       "    .dataframe thead th {\n",
       "        text-align: right;\n",
       "    }\n",
       "</style>\n",
       "<table border=\"1\" class=\"dataframe\">\n",
       "  <thead>\n",
       "    <tr style=\"text-align: right;\">\n",
       "      <th></th>\n",
       "      <th>Id</th>\n",
       "      <th>NAME</th>\n",
       "      <th>ADDRESS</th>\n",
       "      <th>CITY</th>\n",
       "      <th>STATE</th>\n",
       "      <th>ZIP</th>\n",
       "      <th>LAT</th>\n",
       "      <th>LON</th>\n",
       "    </tr>\n",
       "  </thead>\n",
       "  <tbody>\n",
       "    <tr>\n",
       "      <th>0</th>\n",
       "      <td>d78e84ec-30aa-3bba-a33a-f29a3a454662</td>\n",
       "      <td>MASSACHUSETTS GENERAL HOSPITAL</td>\n",
       "      <td>55 FRUIT STREET</td>\n",
       "      <td>BOSTON</td>\n",
       "      <td>MA</td>\n",
       "      <td>2114</td>\n",
       "      <td>42.362813</td>\n",
       "      <td>-71.069187</td>\n",
       "    </tr>\n",
       "  </tbody>\n",
       "</table>\n",
       "</div>"
      ],
      "text/plain": [
       "                                     Id                            NAME  \\\n",
       "0  d78e84ec-30aa-3bba-a33a-f29a3a454662  MASSACHUSETTS GENERAL HOSPITAL   \n",
       "\n",
       "           ADDRESS    CITY STATE   ZIP        LAT        LON  \n",
       "0  55 FRUIT STREET  BOSTON    MA  2114  42.362813 -71.069187  "
      ]
     },
     "execution_count": 12,
     "metadata": {},
     "output_type": "execute_result"
    }
   ],
   "source": [
    "df5 = pd.read_csv('organizations.csv')\n",
    "df5"
   ]
  },
  {
   "cell_type": "code",
   "execution_count": 13,
   "metadata": {},
   "outputs": [],
   "source": [
    "df5.to_csv('organizations_cleaned.csv')"
   ]
  }
 ],
 "metadata": {
  "kernelspec": {
   "display_name": "Python 3",
   "language": "python",
   "name": "python3"
  },
  "language_info": {
   "codemirror_mode": {
    "name": "ipython",
    "version": 3
   },
   "file_extension": ".py",
   "mimetype": "text/x-python",
   "name": "python",
   "nbconvert_exporter": "python",
   "pygments_lexer": "ipython3",
   "version": "3.11.1"
  }
 },
 "nbformat": 4,
 "nbformat_minor": 2
}
